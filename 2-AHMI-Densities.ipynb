{
 "cells": [
  {
   "cell_type": "code",
   "execution_count": null,
   "metadata": {},
   "outputs": [],
   "source": [
    "using ValueShapes\n",
    "using ArraysOfArrays\n",
    "using StatsBase \n",
    "using LinearAlgebra\n",
    "using Statistics\n",
    "using Distributions \n",
    "using IntervalSets\n",
    "\n",
    "using HCubature\n",
    "using JLD\n",
    "using CPUTime\n",
    "\n",
    "using Plots\n",
    "using Colors\n",
    "using ColorSchemes\n",
    "using LaTeXStrings\n",
    "\n",
    "using SpecialFunctions\n",
    "\n",
    "pyplot(size=(750,500))\n",
    "line_colors = ColorSchemes.tab20b;"
   ]
  },
  {
   "cell_type": "code",
   "execution_count": null,
   "metadata": {},
   "outputs": [],
   "source": [
    "import PyPlot\n",
    "plt = PyPlot\n",
    "\n",
    "SMALL_SIZE = 12\n",
    "MEDIUM_SIZE = 13\n",
    "BIGGER_SIZE = 13\n",
    "\n",
    "plt.rc(\"font\", size=SMALL_SIZE)          # controls default text sizes\n",
    "plt.rc(\"axes\", titlesize=SMALL_SIZE)     # fontsize of the axes title\n",
    "plt.rc(\"axes\", labelsize=MEDIUM_SIZE)    # fontsize of the x and y labels\n",
    "plt.rc(\"xtick\", labelsize=SMALL_SIZE)    # fontsize of the tick labels\n",
    "plt.rc(\"ytick\", labelsize=SMALL_SIZE)    # fontsize of the tick labels\n",
    "plt.rc(\"legend\", fontsize=SMALL_SIZE)    # legend fontsize\n",
    "plt.rc(\"figure\", titlesize=BIGGER_SIZE)  # fontsize of the figure title"
   ]
  },
  {
   "cell_type": "code",
   "execution_count": null,
   "metadata": {},
   "outputs": [],
   "source": [
    "# using Revise \n",
    "using BAT"
   ]
  },
  {
   "cell_type": "markdown",
   "metadata": {},
   "source": [
    "# Density Function: "
   ]
  },
  {
   "cell_type": "markdown",
   "metadata": {},
   "source": [
    "Uncomment a density function that needs to be used "
   ]
  },
  {
   "cell_type": "markdown",
   "metadata": {},
   "source": [
    "### - Normal Distribution IID:"
   ]
  },
  {
   "cell_type": "code",
   "execution_count": null,
   "metadata": {},
   "outputs": [],
   "source": [
    "# N = 5\n",
    "\n",
    "# prior_iid = NamedTupleDist(a = [[Normal() for i in 1:N]...],)\n",
    "\n",
    "# LogTrueIntegral(N) = 0.0 "
   ]
  },
  {
   "cell_type": "markdown",
   "metadata": {},
   "source": [
    "### - Cauchy Distribution MCMC: "
   ]
  },
  {
   "cell_type": "code",
   "execution_count": null,
   "metadata": {},
   "outputs": [],
   "source": [
    "# # # Multimodal Caushy Distribution: \n",
    "\n",
    "# true_param =(μ1=1, μ2=-1, σ=0.2)\n",
    "# min_v = -8\n",
    "# max_v = 8\n",
    "# N = 15\n",
    "# lgV = N*log(max_v-min_v); \n",
    "\n",
    "\n",
    "# function fun(x; true_param=true_param)\n",
    "#     tmp = 1\n",
    "#     for i in eachindex(x)\n",
    "#         if i > 2\n",
    "#             tmp *= pdf(Cauchy(true_param.μ1 + true_param.μ2, true_param.σ), x[i])\n",
    "#         else \n",
    "#             tmp *= 0.5*pdf(Cauchy(true_param.μ1, true_param.σ), x[i]) + 0.5*pdf(Cauchy(true_param.μ2, true_param.σ), x[i])\n",
    "#         end\n",
    "#     end\n",
    "#     return tmp\n",
    "# end\n",
    "\n",
    "# function LogTrueIntegral(N; max = max_v, min=min_v,  true_param=true_param) \n",
    "#     tmp = 0\n",
    "#     for i in 1:N\n",
    "#         if i > 2\n",
    "#             tmp += log(cdf(Cauchy(true_param.μ1 + true_param.μ2,true_param.σ), max_v) - cdf(Cauchy(true_param.μ1 + true_param.μ2,true_param.σ), min_v))\n",
    "#         else \n",
    "#             tmp += log(cdf(Cauchy(true_param.μ1,true_param.σ), max_v) - cdf(Cauchy(true_param.μ1 ,true_param.σ), min_v))\n",
    "#         end\n",
    "#     end\n",
    "#     return tmp\n",
    "# end"
   ]
  },
  {
   "cell_type": "markdown",
   "metadata": {},
   "source": [
    "### - Cauchy IID:"
   ]
  },
  {
   "cell_type": "code",
   "execution_count": null,
   "metadata": {},
   "outputs": [],
   "source": [
    "# N = 3\n",
    "\n",
    "# min_v = -8\n",
    "# max_v = 8\n",
    "\n",
    "# prior_iid = NamedTupleDist(a = [[Cauchy(0.0, 0.2) for i in 1:N]...],)\n",
    "\n",
    "# LogTrueIntegral(N) = 0.0 "
   ]
  },
  {
   "cell_type": "markdown",
   "metadata": {},
   "source": [
    "### - Gaussian Shell MCMC:"
   ]
  },
  {
   "cell_type": "code",
   "execution_count": null,
   "metadata": {},
   "outputs": [],
   "source": [
    "# # Gaussian Shell Den\n",
    "\n",
    "N = 2\n",
    "min_v = -25\n",
    "max_v = 25\n",
    "\n",
    "lgV = N*log(max_v-min_v); \n",
    "\n",
    "true_param =(λ=zeros(N), r=5, σ=2)\n",
    "\n",
    "function fun(x; true_param=true_param)\n",
    "    abs_dist = sqrt(sum((true_param.λ .- x).^2))\n",
    "    return exp(-(abs_dist - true_param.r)^2/(2*true_param.σ^2)) / sqrt(2 * pi * true_param.σ^2) \n",
    "end\n",
    "\n",
    "function LogTrueIntegral(N; true_param=true_param) \n",
    "    g(x; true_param=true_param, N=N) = x[1]^(N-1) * exp( -(x[1]-true_param.r)^2/(2*true_param.σ^2) )\n",
    "    return log((sqrt(2)*pi^((N-1)/2)) / (gamma(N/2)*true_param.σ)*hcubature(g, [0], [30])[1])\n",
    "end\n",
    "\n",
    "# LogTrueIntegral(N)\n"
   ]
  },
  {
   "cell_type": "markdown",
   "metadata": {},
   "source": [
    "### - Funel Density MCMC: "
   ]
  },
  {
   "cell_type": "code",
   "execution_count": null,
   "metadata": {},
   "outputs": [],
   "source": [
    "# N = 15\n",
    "# min_v = -50\n",
    "# max_v = 50\n",
    "\n",
    "# lgV = N*log(max_v-min_v); \n",
    "\n",
    "# density_type = Normal(0.0, 1.0)\n",
    "\n",
    "# function fun(x::Array{Float64}; density_type=density_type)\n",
    "#     b=0.5\n",
    "#     μ = 0.0\n",
    "#     σ = 1.0\n",
    "#     return pdf(Normal(μ, σ), x[1])*prod(pdf.(Normal(μ, exp(2*b*x[1])), x[2:end]))   \n",
    "# end\n",
    "\n",
    "# LogTrueIntegral(N) = 0.0 "
   ]
  },
  {
   "cell_type": "markdown",
   "metadata": {},
   "source": [
    "# Gerenrate Samples: "
   ]
  },
  {
   "cell_type": "markdown",
   "metadata": {},
   "source": [
    "Generate samples according to the given function "
   ]
  },
  {
   "cell_type": "code",
   "execution_count": null,
   "metadata": {},
   "outputs": [],
   "source": [
    "algorithm = MetropolisHastings()\n",
    "\n",
    "tuning = AdaptiveMetropolisTuning(\n",
    "    λ = 0.5,\n",
    "    α = 0.15..0.35,\n",
    "    β = 1.5,\n",
    "    c = 1e-4..1e2\n",
    ")\n",
    "\n",
    "convergence = BrooksGelmanConvergence(\n",
    "    threshold = 1.1,\n",
    "    corrected = false\n",
    ")\n",
    "\n",
    "init = MCMCInitStrategy(\n",
    "    init_tries_per_chain = 8..128,\n",
    "    max_nsamples_init = 250,\n",
    "    max_nsteps_init = 250,\n",
    "    max_time_init = 180\n",
    ")\n",
    "\n",
    "burnin = MCMCBurninStrategy(\n",
    "    max_nsamples_per_cycle = 1000,\n",
    "    max_nsteps_per_cycle = 10000,\n",
    "    max_time_per_cycle = 250,\n",
    "    max_ncycles = 200\n",
    ")\n",
    "\n",
    "HMI_Manual_Settings = BAT.HMISettings(BAT.cholesky_partial_whitening!, \n",
    "        1000, \n",
    "        1.5, \n",
    "        0.1, \n",
    "        true, \n",
    "        16, \n",
    "        true, \n",
    "        Dict(\"cov. weighted result\" => BAT.hm_combineresults_covweighted!)\n",
    "    )\n",
    "\n",
    "log_likelihood = params -> LogDVal((log(fun(params.a))))\n",
    "\n",
    "prior = NamedTupleDist(a = [[min_v .. max_v for i in 1:N]...],)\n",
    "\n",
    "posterior = PosteriorDensity(log_likelihood, prior);"
   ]
  },
  {
   "cell_type": "code",
   "execution_count": null,
   "metadata": {},
   "outputs": [],
   "source": [
    "nchains_ = 10\n",
    "nsamples_ = 1*10^5\n",
    "max_time = 150\n",
    "max_nsteps = 10 * nsamples_;"
   ]
  },
  {
   "cell_type": "code",
   "execution_count": null,
   "metadata": {},
   "outputs": [],
   "source": [
    "# IID sampling: \n",
    "\n",
    "# samples = bat_sample(prior_iid, nchains_*nsamples_).result; "
   ]
  },
  {
   "cell_type": "code",
   "execution_count": null,
   "metadata": {},
   "outputs": [],
   "source": [
    "# MCMC\n",
    "\n",
    "@time samples, chains = bat_sample(\n",
    "    posterior, (nsamples_, nchains_), algorithm,\n",
    "    max_nsteps = max_nsteps,\n",
    "    max_time = max_time,\n",
    "    tuning = tuning,\n",
    "    init = init,\n",
    "    burnin = burnin,\n",
    "    convergence = convergence,\n",
    "    strict = false,\n",
    "    filter = true\n",
    ");"
   ]
  },
  {
   "cell_type": "code",
   "execution_count": null,
   "metadata": {},
   "outputs": [],
   "source": [
    "plot(samples, vsel=[1,2,3,4 ], colorbar=false, grid=false, bins=500, size=(1000, 1000))"
   ]
  },
  {
   "cell_type": "code",
   "execution_count": null,
   "metadata": {},
   "outputs": [],
   "source": [
    "hmi_data = BAT.HMIData(unshaped.(samples))\n",
    "\n",
    "@time BAT.hm_integrate!(hmi_data, settings = HMI_Manual_Settings)"
   ]
  },
  {
   "cell_type": "code",
   "execution_count": null,
   "metadata": {},
   "outputs": [],
   "source": [
    "hmi_data.integralestimates[\"cov. weighted result\"].final.estimate * exp(lgV)"
   ]
  },
  {
   "cell_type": "code",
   "execution_count": null,
   "metadata": {},
   "outputs": [],
   "source": [
    "exp(LogTrueIntegral(N))"
   ]
  },
  {
   "cell_type": "markdown",
   "metadata": {},
   "source": [
    "## Analyze Data: "
   ]
  },
  {
   "cell_type": "markdown",
   "metadata": {},
   "source": [
    "This part plots benchmarking data that has been generated by \"run_*.jl\" code"
   ]
  },
  {
   "cell_type": "code",
   "execution_count": null,
   "metadata": {},
   "outputs": [],
   "source": [
    "# MPP Path: \n",
    "\n",
    "# PATH = \"/home/iwsatlas1/vhafych/MPP-Project/AHMI_publication/NormalDistributionData/normal_dist_3-iid.jld\"\n",
    "# PATH = \"/home/iwsatlas1/vhafych/MPP-Project/AHMI_publication/NormalDistributionData/normal_dist-ffcor-3.jld\"\n",
    "# TITLE = \"AHMI Tests (Multivariate Normal Distribution)\"\n",
    "\n",
    "# PATH = \"/home/iwsatlas1/vhafych/MPP-Project/AHMI_publication/CaushyDistributionData/caushy_dist_3.jld\"\n",
    "# PATH = \"/home/iwsatlas1/vhafych/MPP-Project/AHMI_publication/CaushyDistributionData/mmod-caushy_dist_4.jld\"\n",
    "# PATH = \"/home/iwsatlas1/vhafych/MPP-Project/AHMI_publication/CaushyDistributionData/caushy_dist_3-iid.jld\"\n",
    "# PATH = \"/home/iwsatlas1/vhafych/MPP-Project/AHMI_publication/CaushyDistributionData/mmod-caushy_dist_4-ffcor-3.jld\"\n",
    "# TITLE = \"AHMI Tests (Multivariate Caushy Distribution)\"\n",
    "\n",
    "# PATH = \"/home/iwsatlas1/vhafych/MPP-Project/AHMI_publication/GaussShellDistributionData/gaus_shell_dist_5.jld\"\n",
    "PATH = \"/home/iwsatlas1/vhafych/MPP-Project/AHMI_publication/GaussShellDistributionData/gaus_shell_dist_5-ffcor-4.jld\"\n",
    "TITLE = \"AHMI Tests (Multivariate Gaussian Shell)\"\n",
    "\n",
    "# PATH = \"/home/iwsatlas1/vhafych/MPP-Project/AHMI_publication/FunnelDistributionData/funnel_dist_2.jld\"\n",
    "# PATH = \"/home/iwsatlas1/vhafych/MPP-Project/AHMI_publication/FunnelDistributionData/funnel_dist_2-ffcor-4.jld\"\n",
    "# TITLE = \"AHMI Tests (Funnel Distribution)\"\n"
   ]
  },
  {
   "cell_type": "code",
   "execution_count": null,
   "metadata": {},
   "outputs": [],
   "source": [
    "saved = load(PATH);"
   ]
  },
  {
   "cell_type": "code",
   "execution_count": null,
   "metadata": {},
   "outputs": [],
   "source": [
    "integrals_ahmi = saved[\"integrals_ahmi_array\"]\n",
    "integrals_true = saved[\"integrals_true_array\"]\n",
    "uns_ahmi = saved[\"uns_ahmi_array\"]\n",
    "dim_array = saved[\"dim_array\"]\n",
    "sample_size = saved[\"sample_size\"]\n",
    "ahmi_time_array = saved[\"ahmi_time_array\"]\n",
    "mcmc_time_array = saved[\"mcmc_time_array\"]\n",
    "\n",
    "tot_volumes_accepted1_array = saved[\"tot_volumes_accepted1_array\"]\n",
    "tot_volumes_accepted2_array = saved[\"tot_volumes_accepted2_array\"]\n",
    "\n",
    "int_estimates_1_array = saved[\"int_estimates_1_array\"]\n",
    "int_estimates_2_array = saved[\"int_estimates_2_array\"]\n",
    "\n",
    "tot_volumes_rejected1_array = saved[\"tot_volumes_rejected1_array\"]\n",
    "tot_volumes_rejected2_array = saved[\"tot_volumes_rejected2_array\"];\n",
    "\n",
    "dim_range = sort(unique(dim_array));"
   ]
  },
  {
   "cell_type": "code",
   "execution_count": null,
   "metadata": {
    "jupyter": {
     "source_hidden": true
    }
   },
   "outputs": [],
   "source": [
    "integrals = exp.(integrals_ahmi .- integrals_true)\n",
    "unsertanity_ahmi = exp.(uns_ahmi .- integrals_true);\n",
    "unsertanity_scatter = std(integrals, dims=1)'\n",
    "\n",
    "mean_integrals = mean(integrals, dims=1)'\n",
    "unsertanity_ahmi = mean(unsertanity_ahmi, dims=1)';\n",
    "\n",
    "plot(dim_range, mean_integrals, ribbon=(unsertanity_scatter, unsertanity_scatter),\n",
    "    linecolor=line_colors[1], fillcolor=:darkgray, fillalpha=0.3, lw=0, label=\"Sample std.\")\n",
    "\n",
    "plot!(dim_range, mean_integrals, ribbon=(unsertanity_ahmi, unsertanity_ahmi),\n",
    "    linecolor=line_colors[1], fillcolor=line_colors[4], fillalpha=0.5, label=\"Mean AHMI \\$\\\\sigma\\$\")\n",
    "\n",
    "hline!([1], \n",
    "    linecolor=:gray, \n",
    "    lw=3, \n",
    "    linealpha=0.7, label=\"True Integral\")\n",
    "\n",
    "scatter!([dim_array...], [integrals...], #yerror = unsertanity, linealpha=0.1,\n",
    "    lw=0.0, markeralpha=0.6,\n",
    "    markercolor=line_colors[3], \n",
    "    markerstrokewidth=0.1, label=\"AHMI results\")\n",
    "\n",
    "plot!(box=true, \n",
    "    grid=false, \n",
    "    size=(800, 500),\n",
    "    xticks = dim_range,\n",
    "#     xlim=(0, 22),\n",
    "    title = TITLE,\n",
    "    xlabel = L\"N_{dim}\", \n",
    "    ylabel = L\"I/I_{exact}\", \n",
    ")"
   ]
  },
  {
   "cell_type": "code",
   "execution_count": null,
   "metadata": {},
   "outputs": [],
   "source": [
    "fig, ax = plt.subplots(1,1, figsize=(13, 6))\n",
    "\n",
    "ax.plot(dim_range, mean_integrals[:,1], label=L\"$\\langle\\hat{I}\\rangle$\")\n",
    "ax.axhline(1, c=\"red\", label=\"Truth\")\n",
    "\n",
    "ax.fill_between(dim_range, mean_integrals[:,1] .- unsertanity_scatter[:,1], mean_integrals[:,1] .+ unsertanity_scatter[:,1], alpha=1, color=plt.cm.Blues(0.3), label=L\"$\\sigma(\\hat{I})$\" )\n",
    "\n",
    "ax.plot(dim_range, mean_integrals[:,1] .- unsertanity_ahmi[:,1], alpha=1, ls=\"--\", c=\"black\",  label=L\"$\\langle\\sigma\\rangle$\",)\n",
    "ax.plot(dim_range, mean_integrals[:,1] .+ unsertanity_ahmi[:,1], alpha=1, ls=\"--\", c=\"black\")\n",
    "\n",
    "ax.set_xlabel(\"# Dimensions\")\n",
    "ax.set_ylabel(\"Ratio to Truth\")\n",
    "\n",
    "# ins = ax.inset_axes([0.2,0.4,0.3,0.4])\n",
    "# ins.hist(integrals[:, 1], bins=5, color=plt.cm.Blues(0.3))\n",
    "# ins.axvline(1, c=\"red\")\n",
    "# ins.set_xlabel(L\"Integral Estimate $\\hat{I}$\")\n",
    "# ins.get_yaxis().set_visible(false)\n",
    "# ins.set_title(\"# Dimensions = 1\")\n",
    "\n",
    "# ax.set_ylim(0.9, 2)\n",
    "# ax.set_xlim(2, 18)\n",
    "\n",
    "ax.legend(loc=\"upper left\", frameon=true, framealpha=0.8, ncol=1)\n",
    "\n",
    "# fig.savefig(\"/home/iwsatlas1/vhafych/MPP-Project/AHMI_publication/CaushyDistributionData/benchmarking.pdf\", bbox_inches = \"tight\")"
   ]
  },
  {
   "cell_type": "code",
   "execution_count": null,
   "metadata": {},
   "outputs": [],
   "source": [
    "tot_volumes_accepted1_array_mean = mean(tot_volumes_accepted1_array, dims=1)'\n",
    "tot_volumes_accepted2_array_mean = mean(tot_volumes_accepted2_array, dims=1)'\n",
    "\n",
    "tot_volumes_accepted1_array_std = std(tot_volumes_accepted1_array, dims=1)'\n",
    "tot_volumes_accepted2_array_std = std(tot_volumes_accepted2_array, dims=1)'\n",
    "\n",
    "volumes_sum = tot_volumes_accepted1_array_mean .+ tot_volumes_accepted2_array_mean\n",
    "volumes_std = sqrt.( tot_volumes_accepted1_array_std.^2 .+ tot_volumes_accepted2_array_std.^2)\n",
    "\n",
    "mean_time = mean(ahmi_time_array, dims=1)'\n",
    "std_time = std(ahmi_time_array, dims=1)'\n",
    "\n",
    "fig, ax = plt.subplots(1,2, figsize=(13, 4))\n",
    "\n",
    "ax[1].plot(dim_range, mean_time, color=plt.cm.Oranges(0.8))\n",
    "ax[1].fill_between(dim_range, mean_time[:,1] .- std_time[:,1], mean_time[:,1] .+ std_time[:,1], alpha=0.4, color=plt.cm.Oranges(0.3),)\n",
    "ax[1].set_xlabel(\"# Dimensions\")\n",
    "ax[1].set_ylabel(\"Integration Time, [sec.]\")\n",
    "# ax[1].set_xlim(2, 31)\n",
    "\n",
    "ax[2].plot(dim_range, volumes_sum, color=plt.cm.Oranges(0.8))\n",
    "ax[2].fill_between(dim_range, volumes_sum[:,1] .- volumes_std[:,1], volumes_sum[:,1] .+ volumes_std[:,1], alpha=0.4, color=plt.cm.Oranges(0.3),)\n",
    "ax[2].set_xlabel(\"# Dimensions\")\n",
    "ax[2].set_ylabel(\"# Hyper Rectangles\")\n",
    "# ax[2].set_xlim(2, 31)\n",
    "\n",
    "# fig.savefig(\"/home/iwsatlas1/vhafych/MPP-Project/AHMI_publication/NormalDistributionData/time_cubes.pdf\", bbox_inches = \"tight\")"
   ]
  },
  {
   "cell_type": "code",
   "execution_count": null,
   "metadata": {
    "jupyter": {
     "source_hidden": true
    }
   },
   "outputs": [],
   "source": [
    "mcmc_mean_time = mean(mcmc_time_array, dims=1)'\n",
    "mcmc_std_time = std(mcmc_time_array, dims=1)'\n",
    "\n",
    "\n",
    "plot(dim_range, mcmc_mean_time, ribbon=(mcmc_std_time, mcmc_std_time),\n",
    "    linecolor=line_colors[1], fillcolor=line_colors[4], fillalpha=0.3,  label=\"AHMI mean time\")\n",
    "\n",
    "scatter!([dim_array...], [mcmc_time_array...],\n",
    "    lw=0.0, markeralpha=0.5,\n",
    "    markercolor=line_colors[3], \n",
    "    markerstrokewidth=0.1, label=\"MCMC time\")\n",
    "\n",
    "plot!(box=true, \n",
    "    grid=false, \n",
    "    size=(800, 500),\n",
    "    xticks = dim_range,\n",
    "#     xlim=(0, 22),\n",
    "    title = TITLE,\n",
    "    xlabel = L\"N_{dim}\", \n",
    "    ylabel = \"MCMC time, [sec]\", \n",
    ")"
   ]
  },
  {
   "cell_type": "code",
   "execution_count": null,
   "metadata": {
    "jupyter": {
     "source_hidden": true
    }
   },
   "outputs": [],
   "source": [
    "tot_volumes_accepted1_array_mean = mean(tot_volumes_accepted1_array, dims=1)'\n",
    "tot_volumes_accepted2_array_mean = mean(tot_volumes_accepted2_array, dims=1)'\n",
    "\n",
    "tot_volumes_accepted1_array_std = std(tot_volumes_accepted1_array, dims=1)'\n",
    "tot_volumes_accepted2_array_std = std(tot_volumes_accepted2_array, dims=1)'\n",
    "\n",
    "\n",
    "plot(dim_range, tot_volumes_accepted1_array_mean, ribbon=(tot_volumes_accepted1_array_std, tot_volumes_accepted1_array_std),\n",
    "    linecolor=line_colors[1], fillcolor=line_colors[4], fillalpha=0.2,  label=\"Data Set 1: <N>\")\n",
    "\n",
    "scatter!([dim_array...], [tot_volumes_accepted1_array...],\n",
    "    lw=0.0, markeralpha=0.5,\n",
    "    markercolor=line_colors[3], \n",
    "    markerstrokewidth=0.1, label=\"Data Set 1: N_vol\")\n",
    "\n",
    "plot!(dim_range, tot_volumes_accepted2_array_mean, ribbon=(tot_volumes_accepted2_array_std, tot_volumes_accepted2_array_std),\n",
    "    linecolor=line_colors[13], fillcolor=line_colors[14], fillalpha=0.2, label=\"Data Set 2: <N>\")\n",
    "\n",
    "scatter!([dim_array...], [tot_volumes_accepted2_array...],\n",
    "    lw=0.0, markeralpha=0.5,\n",
    "    markercolor=line_colors[13], \n",
    "    markerstrokewidth=0.1,  label=\"Data Set 2: N_vol\")\n",
    "\n",
    "plot!(box=true, \n",
    "    grid=false, \n",
    "    size=(800, 500),\n",
    "    xticks = dim_range,\n",
    "#     xlim=(0, 22),\n",
    "    title = TITLE,\n",
    "    xlabel = L\"N_{dim}\", \n",
    "    ylabel = L\"N volumes\", \n",
    ")"
   ]
  },
  {
   "cell_type": "markdown",
   "metadata": {},
   "source": [
    "# Comparison iid-MCMC: "
   ]
  },
  {
   "cell_type": "code",
   "execution_count": null,
   "metadata": {},
   "outputs": [],
   "source": [
    "# PATH_1 = \"../../AHMI_publication/NormalDistributionData/normal_dist_3-iid.jld\"\n",
    "# PATH_2 = \"/home/iwsatlas1/vhafych/MPP-Project/AHMI_publication/NormalDistributionData/normal_dist_3.jld\"\n",
    "# PATH_2 = \"../../AHMI_publication/NormalDistributionData/normal_dist_4-iid.jld\" #f_min/f_max\n",
    "\n",
    "# PATH_2 = \"/home/iwsatlas1/vhafych/MPP-Project/AHMI_publication/CaushyDistributionData/mmod-caushy_dist_4-ffcor-2.jld\"\n",
    "# PATH_1 = \"/home/iwsatlas1/vhafych/MPP-Project/AHMI_publication/CaushyDistributionData/mmod-caushy_dist_4.jld\"\n",
    "\n",
    "# PATH_1 = \"/home/iwsatlas1/vhafych/MPP-Project/AHMI_publication/FunnelDistributionData/funnel_dist_2.jld\"\n",
    "# PATH_2 = \"/home/iwsatlas1/vhafych/MPP-Project/AHMI_publication/FunnelDistributionData/funnel_dist_2-ffcor.jld\"\n",
    "# TITLE = \"AHMI Tests (Funnel Distribution)\"\n",
    "\n",
    "PATH_1 = \"/home/iwsatlas1/vhafych/MPP-Project/AHMI_publication/GaussShellDistributionData/gaus_shell_dist_5.jld\"\n",
    "PATH_2 = \"/home/iwsatlas1/vhafych/MPP-Project/AHMI_publication/GaussShellDistributionData/gaus_shell_dist_5-ffcor.jld\"\n",
    "TITLE = \"AHMI Tests (Funnel Distribution)\"\n",
    "\n",
    "saved_1 = load(PATH_1);\n",
    "saved_2 = load(PATH_2);"
   ]
  },
  {
   "cell_type": "code",
   "execution_count": null,
   "metadata": {},
   "outputs": [],
   "source": [
    "dim_array = saved_1[\"dim_array\"]\n",
    "integrals_ahmi = saved_1[\"integrals_ahmi_array\"]\n",
    "uns_ahmi = saved_1[\"uns_ahmi_array\"]\n",
    "integrals_true = saved_1[\"integrals_true_array\"]\n",
    "\n",
    "dim_range_1 = sort(unique(dim_array));\n",
    "integrals_1 = exp.(integrals_ahmi .- integrals_true)\n",
    "unsertanity_ahmi_1 = exp.(uns_ahmi .- integrals_true);\n",
    "unsertanity_scatter_1 = std(integrals_1, dims=1)'\n",
    "\n",
    "mean_integrals_1 = mean(integrals_1, dims=1)'\n",
    "unsertanity_ahmi_1 = mean(unsertanity_ahmi_1, dims=1)';"
   ]
  },
  {
   "cell_type": "code",
   "execution_count": null,
   "metadata": {},
   "outputs": [],
   "source": [
    "dim_array = saved_2[\"dim_array\"]\n",
    "integrals_ahmi = saved_2[\"integrals_ahmi_array\"]\n",
    "uns_ahmi = saved_2[\"uns_ahmi_array\"]\n",
    "integrals_true = saved_2[\"integrals_true_array\"]\n",
    "\n",
    "dim_range_2 = sort(unique(dim_array));\n",
    "integrals_2 = exp.(integrals_ahmi .- integrals_true)\n",
    "unsertanity_ahmi_2 = exp.(uns_ahmi .- integrals_true);\n",
    "unsertanity_scatter_2 = std(integrals_2, dims=1)'\n",
    "\n",
    "mean_integrals_2 = mean(integrals_2, dims=1)'\n",
    "unsertanity_ahmi_2 = mean(unsertanity_ahmi_2, dims=1)';"
   ]
  },
  {
   "cell_type": "code",
   "execution_count": null,
   "metadata": {},
   "outputs": [],
   "source": [
    "fig, ax = plt.subplots(1,1, figsize=(13, 6))\n",
    "\n",
    "ax.axhline(1, c=\"red\", label=\"Truth\")\n",
    "\n",
    "ax.plot(dim_range_2, mean_integrals_2[:,1], label=L\"MCMC: $\\langle\\hat{I}\\rangle$\", color=plt.cm.Blues(0.8), alpha=0.5)\n",
    "ax.fill_between(dim_range_2, mean_integrals_2[:,1] .- unsertanity_scatter_2[:,1], mean_integrals_2[:,1] .+ unsertanity_scatter_2[:,1], alpha=0.5, color=plt.cm.Blues(0.3), label=L\"MCMC: $\\sigma(\\hat{I})$\" )\n",
    "ax.plot(dim_range_2, mean_integrals_2[:,1] .- unsertanity_ahmi_2[:,1], alpha=0.5, ls=\"--\", color=plt.cm.Blues(0.8),  label=L\"MCMC: $\\langle\\sigma\\rangle$\",)\n",
    "ax.plot(dim_range_2, mean_integrals_2[:,1] .+ unsertanity_ahmi_2[:,1], alpha=0.5, ls=\"--\", color=plt.cm.Blues(0.8))\n",
    "\n",
    "ax.plot(dim_range_1, mean_integrals_1[:,1], label=L\"i.i.d.: $\\langle\\hat{I}\\rangle$\", color=plt.cm.Oranges(0.8), alpha=0.5)\n",
    "ax.fill_between(dim_range_1, mean_integrals_1[:,1] .- unsertanity_scatter_1[:,1], mean_integrals_1[:,1] .+ unsertanity_scatter_1[:,1], alpha=0.5, color=plt.cm.Oranges(0.3), label=L\"i.i.d.: $\\sigma(\\hat{I})$\" )\n",
    "ax.plot(dim_range_1, mean_integrals_1[:,1] .- unsertanity_ahmi_1[:,1], alpha=0.5, ls=\"--\", color=plt.cm.Oranges(0.8),  label=L\"i.i.d.: $\\langle\\sigma\\rangle$\",)\n",
    "ax.plot(dim_range_1, mean_integrals_1[:,1] .+ unsertanity_ahmi_1[:,1], alpha=0.5, ls=\"--\", color=plt.cm.Oranges(0.8))\n",
    "\n",
    "\n",
    "ax.set_xlabel(\"# Dimensions\")\n",
    "ax.set_ylabel(\"Ratio to Truth\")\n",
    "\n",
    "ax.legend(loc=\"upper left\", frameon=true, framealpha=0.8, ncol=1)\n",
    "\n",
    "# fig.savefig(\"/home/iwsatlas1/vhafych/MPP-Project/AHMI_publication/NormalDistributionData/normal_benchmarking.pdf\", bbox_inches = \"tight\")"
   ]
  },
  {
   "cell_type": "code",
   "execution_count": null,
   "metadata": {},
   "outputs": [],
   "source": []
  }
 ],
 "metadata": {
  "kernelspec": {
   "display_name": "Julia 1.4.0-rc1",
   "language": "julia",
   "name": "julia-1.4"
  },
  "language_info": {
   "file_extension": ".jl",
   "mimetype": "application/julia",
   "name": "julia",
   "version": "1.4.0"
  }
 },
 "nbformat": 4,
 "nbformat_minor": 4
}
