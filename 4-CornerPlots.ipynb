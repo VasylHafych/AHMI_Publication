{
 "cells": [
  {
   "cell_type": "code",
   "execution_count": null,
   "metadata": {},
   "outputs": [],
   "source": [
    "using ValueShapes\n",
    "using ArraysOfArrays\n",
    "using StatsBase \n",
    "using LinearAlgebra\n",
    "using Statistics\n",
    "using Distributions \n",
    "using IntervalSets\n",
    "\n",
    "using HCubature\n",
    "using JLD\n",
    "using CPUTime\n"
   ]
  },
  {
   "cell_type": "code",
   "execution_count": null,
   "metadata": {},
   "outputs": [],
   "source": [
    "import PyPlot\n",
    "plt = PyPlot"
   ]
  },
  {
   "cell_type": "code",
   "execution_count": null,
   "metadata": {},
   "outputs": [],
   "source": [
    "samples = randn(5, 100000)\n",
    "sample_weights = ones(100000)\n",
    "log_lik = randn(100000);"
   ]
  },
  {
   "cell_type": "code",
   "execution_count": null,
   "metadata": {},
   "outputs": [],
   "source": [
    "SMALL_SIZE = 12\n",
    "MEDIUM_SIZE = 13\n",
    "BIGGER_SIZE = 13\n",
    "\n",
    "plt.rc(\"font\", size=SMALL_SIZE)          # controls default text sizes\n",
    "plt.rc(\"axes\", titlesize=SMALL_SIZE)     # fontsize of the axes title\n",
    "plt.rc(\"axes\", labelsize=MEDIUM_SIZE)    # fontsize of the x and y labels\n",
    "plt.rc(\"xtick\", labelsize=SMALL_SIZE)    # fontsize of the tick labels\n",
    "plt.rc(\"ytick\", labelsize=SMALL_SIZE)    # fontsize of the tick labels\n",
    "plt.rc(\"legend\", fontsize=SMALL_SIZE)    # legend fontsize\n",
    "plt.rc(\"figure\", titlesize=BIGGER_SIZE)  # fontsize of the figure title"
   ]
  },
  {
   "cell_type": "code",
   "execution_count": null,
   "metadata": {},
   "outputs": [],
   "source": [
    "function corner_plots(samples::AbstractArray, sample_weights::AbstractArray, loglik::AbstractArray, dim_indices::AbstractArray, dim_names::AbstractArray;\n",
    "        save_plot=false,\n",
    "        FILE_NAME = \"density_function.pdf\",\n",
    "        N_bins = 50,\n",
    "        levels_quantiles = [0.4, 0.7, 0.8, 0.9, 0.99, 1,], \n",
    "        hist_color = plt.cm.Blues(0.7), \n",
    "        colors = vcat([1 1 1 1], plt.cm.Blues(range(0, stop=1, length=length(levels_quantiles)))[2:end,:])\n",
    "    )\n",
    "    \n",
    "    N = length(dim_indices)\n",
    "    bins=[] #Vector{StepRangeLen}()\n",
    "    fig, ax = plt.subplots(N,N, figsize=(13, 13))\n",
    "    fig.subplots_adjust(wspace=0.05, hspace=0.05)\n",
    "    \n",
    "    for idx in 1:N\n",
    "        dim_idx = dim_indices[idx]\n",
    "        bins_tmp = range(minimum(samples[dim_idx,:]), stop=maximum(samples[dim_idx,:]), length=N_bins)\n",
    "        push!(bins, bins_tmp)\n",
    "        ax[idx, idx].hist(samples[dim_idx,:], weights=sample_weights, bins=bins_tmp, color=hist_color)\n",
    "        ax[idx, idx].set_xlim(first(bins_tmp),last(bins_tmp))\n",
    "    end\n",
    "    \n",
    "    for i in 2:N, j in 1:(i-1)\n",
    "        dim_x = dim_indices[j]\n",
    "        dim_y = dim_indices[i]\n",
    "        histogram_2D = fit(Histogram, (samples[dim_x,:],samples[dim_y,:]), weights(sample_weights), (bins[j], bins[i]))\n",
    "        histogram_2D = normalize(histogram_2D, mode=:probability)\n",
    "        \n",
    "        levels=quantile([histogram_2D.weights...], levels_quantiles)\n",
    "        \n",
    "        ax[i,j].contourf(midpoints(histogram_2D.edges[1]), midpoints(histogram_2D.edges[2]), histogram_2D.weights', levels=levels, colors=colors)\n",
    "        ax[i,j].set_xlim(first(bins[j]),last(bins[j]))\n",
    "        ax[i,j].set_ylim(first(bins[i]),last(bins[i]))\n",
    "        ax[j,i].set_visible(false)\n",
    "        \n",
    "    end\n",
    "    \n",
    "    for i in 1:N, j in 1:N\n",
    "        if i < N \n",
    "            ax[i,j].get_xaxis().set_visible(false)\n",
    "        else\n",
    "            ax[i,j].set_xlabel(dim_names[j])\n",
    "        end\n",
    "        \n",
    "        if j == i || j>1\n",
    "           ax[i,j].get_yaxis().set_visible(false) \n",
    "        else\n",
    "            ax[i,j].set_ylabel(dim_names[i])\n",
    "        end\n",
    "    end\n",
    "    \n",
    "    if save_plot \n",
    "        fig.savefig(FILE_NAME, bbox_inches = \"tight\")\n",
    "    end\n",
    "        \n",
    "end"
   ]
  },
  {
   "cell_type": "code",
   "execution_count": null,
   "metadata": {},
   "outputs": [],
   "source": [
    "corner_plots(samples, sample_weights, log_lik, [1,2,3], [\"x\", \"y\", \"z\"],\n",
    "    N_bins=30,\n",
    "    levels_quantiles = [0.4, 0.7, 0.8, 0.9, 0.98, 1,])"
   ]
  },
  {
   "cell_type": "code",
   "execution_count": null,
   "metadata": {},
   "outputs": [],
   "source": []
  }
 ],
 "metadata": {
  "kernelspec": {
   "display_name": "Julia 1.4.0-rc1",
   "language": "julia",
   "name": "julia-1.4"
  },
  "language_info": {
   "file_extension": ".jl",
   "mimetype": "application/julia",
   "name": "julia",
   "version": "1.4.0"
  }
 },
 "nbformat": 4,
 "nbformat_minor": 4
}
