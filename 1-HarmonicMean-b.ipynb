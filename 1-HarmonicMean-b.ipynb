{
 "cells": [
  {
   "cell_type": "code",
   "execution_count": null,
   "metadata": {},
   "outputs": [],
   "source": [
    "using Distributions\n",
    "using Plots\n",
    "using Colors\n",
    "using ColorSchemes\n",
    "using JLD\n",
    "using SpecialFunctions\n",
    "using LinearAlgebra\n",
    "\n",
    "pyplot()"
   ]
  },
  {
   "cell_type": "code",
   "execution_count": null,
   "metadata": {},
   "outputs": [],
   "source": [
    "using PyPlot\n",
    "plt = PyPlot\n",
    "\n",
    "SMALL_SIZE = 12\n",
    "MEDIUM_SIZE = 13\n",
    "BIGGER_SIZE = 13\n",
    "\n",
    "plt.rc(\"font\", size=SMALL_SIZE)          # controls default text sizes\n",
    "plt.rc(\"axes\", titlesize=SMALL_SIZE)     # fontsize of the axes title\n",
    "plt.rc(\"axes\", labelsize=MEDIUM_SIZE)    # fontsize of the x and y labels\n",
    "plt.rc(\"xtick\", labelsize=SMALL_SIZE)    # fontsize of the tick labels\n",
    "plt.rc(\"ytick\", labelsize=SMALL_SIZE)    # fontsize of the tick labels\n",
    "plt.rc(\"legend\", fontsize=SMALL_SIZE)    # legend fontsize\n",
    "plt.rc(\"figure\", titlesize=BIGGER_SIZE)  # fontsize of the figure title"
   ]
  },
  {
   "cell_type": "code",
   "execution_count": null,
   "metadata": {},
   "outputs": [],
   "source": [
    "function rect_lower(N, d; n=20)\n",
    "    quantile(Normal(), (1 + (n/N)^(1/(d)))/2)\n",
    "end\n",
    "\n",
    "function rect_upper(N, d; n=1)\n",
    "    sqrt(quantile(Chisq(d), 1-n/N )/d)\n",
    "end\n",
    "\n",
    "function sphere_upper(N, d; n=1)\n",
    "    sqrt(quantile(Chisq(d), 1-n/N ))\n",
    "end\n",
    "\n",
    "function sphere_lower(N, d; n=20)\n",
    "    sqrt(quantile(Chisq(d), n/N ))\n",
    "end"
   ]
  },
  {
   "cell_type": "markdown",
   "metadata": {},
   "source": [
    "# Generate Experiments: "
   ]
  },
  {
   "cell_type": "code",
   "execution_count": null,
   "metadata": {},
   "outputs": [],
   "source": [
    "mask_rectangular(samples, window) = prod(abs.(samples) .< window, dims=1)[1,:]\n",
    "mask_spherical(samples, window) = [sum(i.^2)<window^2 for i in eachcol(samples)]\n",
    "volume_rectangular(n, window) = (2*window)^n\n",
    "volume_spherical(n, window) = (pi^(n/2))/(gamma(n/2 + 1))*window^n\n",
    "\n",
    "function estimate_integral(log_lik, V, N_omega, N_delta)\n",
    "    \n",
    "    x = 1 ./ log_lik\n",
    "    x_variance = var(x)/N_delta\n",
    "    x_mean = mean(x)\n",
    "    bias_x = x_variance / x_mean^2\n",
    "    hm_estimate = V/x_mean\n",
    "    \n",
    "    r = N_delta / N_omega\n",
    "    bias_r = (1-r)/N_delta\n",
    "   \n",
    "    return hm_estimate, r, bias_r, bias_x\n",
    "end\n",
    "\n",
    "function generate_experiments(mask_function, volume_function, dim_range, window_size, n_experiments; n_samples=10^6, sigma=1)\n",
    "\n",
    "    x_estimate = Vector{Float64}()\n",
    "    r_estimate = Vector{Float64}()\n",
    "    bias_x =  Vector{Float64}()\n",
    "    bias_r =  Vector{Float64}()\n",
    "    parameters = []\n",
    "    \n",
    "    for dim_run in dim_range\n",
    "        @show \"Dim:\", dim_run\n",
    "        \n",
    "        for exp_run in 1:n_experiments\n",
    "            \n",
    "            distribution = MvNormal(dim_run, sigma)\n",
    "#             distribution = MvNormal(ones(dim_run), Matrix{Float64}(I, dim_run, dim_run))\n",
    "            smpl = rand(distribution, n_samples)\n",
    "            log_lik = [pdf(distribution, i) for i in eachcol(smpl)];\n",
    "    \n",
    "            for window in window_size\n",
    "\n",
    "                mask = mask_function(smpl, window)\n",
    "\n",
    "                smpl_run = smpl[:,mask]\n",
    "                log_lik_run = log_lik[mask]\n",
    "                \n",
    "                V = volume_function(dim_run, window)\n",
    "                \n",
    "                x_run, r_run, b_r_run, b_x_run = estimate_integral(log_lik_run, V, length(smpl), sum(mask))\n",
    "                \n",
    "                push!(x_estimate, x_run)\n",
    "                push!(r_estimate, r_run)\n",
    "                push!(bias_x, b_x_run)\n",
    "                push!(bias_r, b_r_run)\n",
    "                push!(parameters, (dim_run, exp_run, window))\n",
    "            \n",
    "            end\n",
    "        end\n",
    "    end\n",
    "    \n",
    "    return(x_estimate, r_estimate, bias_x, bias_r, parameters)\n",
    "end  "
   ]
  },
  {
   "cell_type": "markdown",
   "metadata": {},
   "source": [
    "# Generare Samples: "
   ]
  },
  {
   "cell_type": "code",
   "execution_count": null,
   "metadata": {},
   "outputs": [],
   "source": [
    "N_dim = 2\n",
    "sigma = 1\n",
    "N_samples = 10^6\n",
    "distribution = MvNormal(N_dim, sigma)\n",
    "# distribution = MvNormal(ones(N_dim), Matrix{Float64}(I, N_dim, N_dim))\n",
    "smpl = rand(distribution, N_samples)\n",
    "log_lik = [pdf(distribution, i) for i in eachcol(smpl)];"
   ]
  },
  {
   "cell_type": "code",
   "execution_count": null,
   "metadata": {},
   "outputs": [],
   "source": [
    "histogram2d(smpl[1,:], smpl[2,:], frame=true, colorbar=false)"
   ]
  },
  {
   "cell_type": "markdown",
   "metadata": {},
   "source": [
    "# Single run (hypercubes):"
   ]
  },
  {
   "cell_type": "code",
   "execution_count": null,
   "metadata": {},
   "outputs": [],
   "source": [
    "window = 2.0\n",
    "\n",
    "V = (2*window)^N_dim\n",
    "\n",
    "mask = abs.(smpl) .< window\n",
    "\n",
    "mask = prod(mask, dims=1)[1,:]\n",
    "\n",
    "tmp = smpl[:,mask]\n",
    "\n",
    "@show V, sum(mask)\n",
    "\n",
    "histogram2d(tmp[1,:], tmp[2,:], frame=true, colorbar=false, bins=100)\n"
   ]
  },
  {
   "cell_type": "code",
   "execution_count": null,
   "metadata": {},
   "outputs": [],
   "source": [
    "x_run, r_run, b_r_run, b_x_run = estimate_integral(log_lik[mask], V, length(smpl), sum(mask))"
   ]
  },
  {
   "cell_type": "code",
   "execution_count": null,
   "metadata": {},
   "outputs": [],
   "source": [
    "int_tmp = (x_run/r_run)/N_dim"
   ]
  },
  {
   "cell_type": "code",
   "execution_count": null,
   "metadata": {},
   "outputs": [],
   "source": [
    "int_tmp*(1 - b_r_run - b_x_run)"
   ]
  },
  {
   "cell_type": "markdown",
   "metadata": {},
   "source": [
    "# Single run (hypersphere): "
   ]
  },
  {
   "cell_type": "code",
   "execution_count": null,
   "metadata": {},
   "outputs": [],
   "source": [
    "r = 2.0\n",
    "\n",
    "vol(N, R) = (pi^(N/2))/(gamma(N/2 + 1))*R^N\n",
    "\n",
    "V = vol(N_dim, r)\n",
    "\n",
    "mask = [sum(i.^2)<r^2 for i in eachcol(smpl)]\n",
    "\n",
    "tmp = smpl[:,mask]\n",
    "\n",
    "@show length(smpl), sum(mask), V\n",
    "\n",
    "histogram2d(tmp[1,:], tmp[2,:], frame=true, colorbar=false, bins=100)"
   ]
  },
  {
   "cell_type": "code",
   "execution_count": null,
   "metadata": {},
   "outputs": [],
   "source": [
    "x_run, r_run, b_r_run, b_x_run = estimate_integral(log_lik[mask], V, length(smpl), sum(mask))"
   ]
  },
  {
   "cell_type": "code",
   "execution_count": null,
   "metadata": {},
   "outputs": [],
   "source": [
    "int_tmp = (x_run/r_run)/N_dim"
   ]
  },
  {
   "cell_type": "code",
   "execution_count": null,
   "metadata": {},
   "outputs": [],
   "source": [
    "int_tmp*(1 - b_r_run - b_x_run)"
   ]
  },
  {
   "cell_type": "markdown",
   "metadata": {},
   "source": [
    "# Rectangular Volumes:"
   ]
  },
  {
   "cell_type": "code",
   "execution_count": null,
   "metadata": {},
   "outputs": [],
   "source": [
    "dim_range = 2:30 #2:50\n",
    "window_size = range(0.1, stop=10.0, length=30)\n",
    "n_experiments = 50;"
   ]
  },
  {
   "cell_type": "code",
   "execution_count": null,
   "metadata": {},
   "outputs": [],
   "source": [
    "@time x_estimate_1, r_estimate_1, bias_x_1, bias_r_1, parameters_1 = generate_experiments(mask_rectangular, volume_rectangular, dim_range, window_size, n_experiments, n_samples=10^4);"
   ]
  },
  {
   "cell_type": "code",
   "execution_count": null,
   "metadata": {},
   "outputs": [],
   "source": [
    "# ****\n",
    "# save samples\n",
    "# ****\n",
    "\n",
    "# save(\"../../AHMI_publication/Revtangules_vs_Spheres/rect-2.jld\", \n",
    "#     \"x_estimate_1\", x_estimate_1,\n",
    "#     \"r_estimate_1\", r_estimate_1,\n",
    "#     \"bias_x_1\", bias_x_1,\n",
    "#     \"bias_r_1\", bias_r_1,\n",
    "#     \"parameters_1\", parameters_1)\n",
    "\n",
    "# ****\n",
    "# load samples\n",
    "# ****\n",
    "\n",
    "# saved_1 = load(\"../../AHMI_publication/Revtangules_vs_Spheres/rect-2.jld\");\n",
    "# x_estimate_1 = saved_1[\"x_estimate_1\"]\n",
    "# r_estimate_1 = saved_1[\"r_estimate_1\"]\n",
    "# bias_x_1 = saved_1[\"bias_x_1\"]\n",
    "# bias_r_1 = saved_1[\"bias_r_1\"]\n",
    "# parameters_1 = saved_1[\"parameters_1\"];"
   ]
  },
  {
   "cell_type": "code",
   "execution_count": null,
   "metadata": {},
   "outputs": [],
   "source": [
    "int_estimate_biased_1 = x_estimate_1 ./(r_estimate_1)\n",
    "int_estimate_unbiased_1 = int_estimate_biased_1 .* (1 .- bias_r_1 .- bias_x_1 ) #.- bias_x\n",
    "\n",
    "aver_int_estimate_biased_1 = mean(reshape(int_estimate_biased_1, length(window_size), n_experiments, (dim_range[end] - dim_range[1]+1)), dims=2)[:,1,:]\n",
    "aver_int_estimate_unbiased_1 = mean(reshape(int_estimate_unbiased_1, length(window_size), n_experiments, (dim_range[end] - dim_range[1]+1)), dims=2)[:,1,:]\n",
    "\n",
    "std_int_estimate_biased_1 = std(reshape(int_estimate_biased_1, length(window_size), n_experiments, (dim_range[end] - dim_range[1]+1)), dims=2)[:,1,:] \n",
    "std_int_estimate_unbiased_1 = std(reshape(int_estimate_unbiased_1, length(window_size), n_experiments, (dim_range[end] - dim_range[1]+1)), dims=2)[:,1,:];"
   ]
  },
  {
   "cell_type": "code",
   "execution_count": null,
   "metadata": {},
   "outputs": [],
   "source": [
    "int_true_1 = ones(size(std_int_estimate_biased_1)) .* collect(dim_range)';"
   ]
  },
  {
   "cell_type": "code",
   "execution_count": null,
   "metadata": {},
   "outputs": [],
   "source": [
    "plot_ratio_biased_1 = aver_int_estimate_biased_1./int_true_1;\n",
    "plot_std_ratio_biased_1 = std_int_estimate_biased_1./int_true_1;"
   ]
  },
  {
   "cell_type": "code",
   "execution_count": null,
   "metadata": {},
   "outputs": [],
   "source": [
    "plot_ratio_unbiased_1 = aver_int_estimate_unbiased_1./int_true_1;\n",
    "plot_std_ratio_unbiased_1 = std_int_estimate_unbiased_1./int_true_1;"
   ]
  },
  {
   "cell_type": "markdown",
   "metadata": {},
   "source": [
    "# Spherical Volumes:"
   ]
  },
  {
   "cell_type": "code",
   "execution_count": null,
   "metadata": {},
   "outputs": [],
   "source": [
    "@time x_estimate_2, r_estimate_2, bias_x_2, bias_r_2, parameters_2 = generate_experiments(mask_spherical, volume_spherical, dim_range, window_size, n_experiments, n_samples=10^4);"
   ]
  },
  {
   "cell_type": "code",
   "execution_count": null,
   "metadata": {},
   "outputs": [],
   "source": [
    "# ****\n",
    "# save samples\n",
    "# ****\n",
    "\n",
    "# save(\"../../AHMI_publication/Revtangules_vs_Spheres/spheres-2.jld\", \n",
    "#     \"x_estimate_2\", x_estimate_2,\n",
    "#     \"r_estimate_2\", r_estimate_2,\n",
    "#     \"bias_x_2\", bias_x_2,\n",
    "#     \"bias_r_2\", bias_r_2,\n",
    "#     \"parameters_2\", parameters_2)\n",
    "\n",
    "# ****\n",
    "# load samples\n",
    "# ****\n",
    "\n",
    "# saved_2 = load(\"../../AHMI_publication/Revtangules_vs_Spheres/spheres-2.jld\");\n",
    "\n",
    "# x_estimate_2 = saved_2[\"x_estimate_2\"]\n",
    "# r_estimate_2 = saved_2[\"r_estimate_2\"]\n",
    "# bias_x_2 = saved_2[\"bias_x_2\"]\n",
    "# bias_r_2 = saved_2[\"bias_r_2\"]\n",
    "# parameters_2 = saved_2[\"parameters_2\"];"
   ]
  },
  {
   "cell_type": "code",
   "execution_count": null,
   "metadata": {},
   "outputs": [],
   "source": [
    "int_estimate_biased_2 = x_estimate_2 ./(r_estimate_2)\n",
    "int_estimate_unbiased_2 = int_estimate_biased_2 .* (1 .- bias_r_2 .- bias_x_2 ) #.- bias_x\n",
    "\n",
    "aver_int_estimate_biased_2 = mean(reshape(int_estimate_biased_2, length(window_size), n_experiments, (dim_range[end] - dim_range[1]+1)), dims=2)[:,1,:]\n",
    "aver_int_estimate_unbiased_2 = mean(reshape(int_estimate_unbiased_2, length(window_size), n_experiments, (dim_range[end] - dim_range[1]+1)), dims=2)[:,1,:]\n",
    "\n",
    "std_int_estimate_biased_2 = std(reshape(int_estimate_biased_2, length(window_size), n_experiments, (dim_range[end] - dim_range[1]+1)), dims=2)[:,1,:] \n",
    "std_int_estimate_unbiased_2 = std(reshape(int_estimate_unbiased_2, length(window_size), n_experiments, (dim_range[end] - dim_range[1]+1)), dims=2)[:,1,:];"
   ]
  },
  {
   "cell_type": "code",
   "execution_count": null,
   "metadata": {},
   "outputs": [],
   "source": [
    "int_true_2 = ones(size(std_int_estimate_biased_2)) .* collect(dim_range)';"
   ]
  },
  {
   "cell_type": "code",
   "execution_count": null,
   "metadata": {},
   "outputs": [],
   "source": [
    "plot_ratio_biased_2 = aver_int_estimate_biased_2./int_true_2;\n",
    "plot_std_ratio_biased_2 = std_int_estimate_biased_2./int_true_2;"
   ]
  },
  {
   "cell_type": "code",
   "execution_count": null,
   "metadata": {},
   "outputs": [],
   "source": [
    "plot_ratio_unbiased_2 = aver_int_estimate_unbiased_2./int_true_2;\n",
    "plot_std_ratio_unbiased_2 = std_int_estimate_unbiased_2./int_true_2;"
   ]
  },
  {
   "cell_type": "markdown",
   "metadata": {},
   "source": [
    "# Combined Plot: "
   ]
  },
  {
   "cell_type": "code",
   "execution_count": null,
   "metadata": {},
   "outputs": [],
   "source": [
    "range_v = [0.97, 1.03]\n",
    "\n",
    "\n",
    "fig, ax = plt.subplots(ncols=3,figsize=(13,6), gridspec_kw=Dict(\"width_ratios\"=>[1,1, 0.03]),)\n",
    "\n",
    "im1 = ax[1].pcolormesh(dim_range, window_size, plot_ratio_unbiased_1, vmin=range_v[1], vmax=range_v[2], cmap=\"RdYlBu_r\")\n",
    "im2 = ax[2].pcolormesh(dim_range, window_size, plot_ratio_unbiased_2, vmin=range_v[1], vmax=range_v[2], cmap=\"RdYlBu_r\")\n",
    "\n",
    "ax[2].get_yaxis().set_visible(false) \n",
    "\n",
    "ax[1].set_xlabel(\"# Dimensions\")\n",
    "ax[2].set_xlabel(\"# Dimensions\")\n",
    "ax[1].set_ylabel(\"a\")\n",
    "\n",
    "fig.colorbar(im1, cax=ax[3], ax=[ax[1],ax[2]])\n"
   ]
  },
  {
   "cell_type": "code",
   "execution_count": null,
   "metadata": {},
   "outputs": [],
   "source": [
    "range_v = [0.97, 1.03]\n",
    "\n",
    "rect_low_edge = rect_lower.(10^6, collect(dim_range))\n",
    "rect_upper_edge = rect_upper.(10^6, collect(dim_range), n=1)\n",
    "\n",
    "spheres_low_edge = sphere_lower.(10^6, collect(dim_range))\n",
    "spheres_upper_edge = sphere_upper.(10^6, collect(dim_range), n=1)\n",
    "\n",
    "\n",
    "fig, ax = plt.subplots(ncols=3,figsize=(13,6), gridspec_kw=Dict(\"width_ratios\"=>[1,1, 0.03]),)\n",
    "\n",
    "im1 = ax[1].pcolormesh(dim_range, window_size, plot_ratio_unbiased_1, vmin=range_v[1], vmax=range_v[2], cmap=\"RdYlBu_r\")\n",
    "ax[1].plot(dim_range, rect_low_edge, c=\"cyan\", lw=3, alpha=1)\n",
    "ax[1].plot(dim_range, rect_upper_edge, c=\"magenta\", lw=3, alpha=1)\n",
    "\n",
    "ax[1].set_ylim(0.1, 10)\n",
    "ax[1].set_xlim(2, 50)\n",
    "\n",
    "im2 = ax[2].pcolormesh(dim_range, window_size, plot_ratio_unbiased_2, vmin=range_v[1], vmax=range_v[2], cmap=\"RdYlBu_r\")\n",
    "ax[2].plot(dim_range, spheres_low_edge, c=\"cyan\", lw=3, alpha=1)\n",
    "ax[2].plot(dim_range, spheres_upper_edge, c=\"magenta\", lw=3, alpha=1)\n",
    "\n",
    "\n",
    "ax[2].set_ylim(0.1, 10)\n",
    "ax[2].set_xlim(2, 50)\n",
    "\n",
    "ax[2].get_yaxis().set_visible(false) \n",
    "\n",
    "ax[1].set_xlabel(\"# Dimensions\")\n",
    "ax[2].set_xlabel(\"# Dimensions\")\n",
    "ax[1].set_ylabel(\"a\")\n",
    "\n",
    "fig.colorbar(im1, cax=ax[3], ax=[ax[1],ax[2]])"
   ]
  }
 ],
 "metadata": {
  "kernelspec": {
   "display_name": "Julia 1.4.0-rc1",
   "language": "julia",
   "name": "julia-1.4"
  },
  "language_info": {
   "file_extension": ".jl",
   "mimetype": "application/julia",
   "name": "julia",
   "version": "1.4.0"
  }
 },
 "nbformat": 4,
 "nbformat_minor": 4
}
