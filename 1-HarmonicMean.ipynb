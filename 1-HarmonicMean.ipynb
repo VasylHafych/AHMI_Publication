{
 "cells": [
  {
   "cell_type": "code",
   "execution_count": null,
   "metadata": {},
   "outputs": [],
   "source": [
    "using ValueShapes\n",
    "using ArraysOfArrays\n",
    "using StatsBase \n",
    "using LinearAlgebra\n",
    "using Statistics\n",
    "using BAT\n",
    "using Distributions \n",
    "using IntervalSets\n",
    "\n",
    "using HCubature\n",
    "\n",
    "using Plots\n",
    "using Colors\n",
    "using ColorSchemes\n",
    "using LaTeXStrings\n",
    "\n",
    "pyplot(size=(750,500))"
   ]
  },
  {
   "cell_type": "code",
   "execution_count": null,
   "metadata": {},
   "outputs": [],
   "source": [
    "function generate_hm_data(p, x_r, norm_prior, density; symmetric=false, n_samples=10^2, n_chains=3, n_trials=10)\n",
    "    \n",
    "    cuba_integrals = []\n",
    "    hm_estimates = []\n",
    "    hm_std = []\n",
    "    \n",
    "    for i_trial in 1:n_trials\n",
    "        samples = bat_sample(p, (n_samples, n_chains), MetropolisHastings()).result\n",
    "        samples_vector = flatview(unshaped.(samples.v))[1,:]\n",
    "        samples_likelihoods = exp.(samples.logd) * norm_prior\n",
    "        samples_weights = samples.weight\n",
    "        \n",
    "        for x in x_r\n",
    "            \n",
    "            if symmetric\n",
    "                mask = -x .< samples_vector .< x\n",
    "                V_run = 2*x \n",
    "            else\n",
    "                mask = samples_vector .< x\n",
    "                V_run = x - x_r[1]\n",
    "            end\n",
    "            \n",
    "            hmi_estimate = (sum(samples_weights[mask] * V_run)) /(sum(samples_weights[mask]./samples_likelihoods[mask])) \n",
    "            push!(hm_estimates, hmi_estimate)\n",
    "            \n",
    "            if i_trial == n_trials[end]\n",
    "                \n",
    "                if symmetric\n",
    "                    push!(cuba_integrals, hcubature(density, [-x], [x])[1]) \n",
    "                else\n",
    "                    push!(cuba_integrals, hcubature(density, [x_r[1]], [x])[1])\n",
    "                end\n",
    "                \n",
    "            end\n",
    "        end\n",
    "        \n",
    "    end\n",
    "    \n",
    "    hm_estimates = reshape(hm_estimates, length(x_range), n_trials)\n",
    "    return mean(hm_estimates, dims=2)[:,1], std(hm_estimates, dims=2)[:,1], cuba_integrals\n",
    "end"
   ]
  },
  {
   "cell_type": "markdown",
   "metadata": {},
   "source": [
    "# Gamma Distribution Example: "
   ]
  },
  {
   "cell_type": "code",
   "execution_count": null,
   "metadata": {},
   "outputs": [],
   "source": [
    "density_f(x; λ=1.5) =  pdf(Gamma(λ), x...)"
   ]
  },
  {
   "cell_type": "code",
   "execution_count": null,
   "metadata": {},
   "outputs": [],
   "source": [
    "# Generate MCMC Samples using BAT\n",
    "\n",
    "prior = NamedTupleDist(x =[-100.0 .. 100.0] )\n",
    "\n",
    "Norm_prior = 200\n",
    "\n",
    "log_likelihood = let f = density_f\n",
    "    params ->  LogDVal(log(f(params.x)))\n",
    "end\n",
    "\n",
    "posterior = PosteriorDensity(log_likelihood, prior)\n",
    "\n",
    "nsamples = 10^3\n",
    "nchains = 6\n",
    "\n",
    "samples = bat_sample(posterior, (nsamples, nchains), MetropolisHastings()).result;"
   ]
  },
  {
   "cell_type": "code",
   "execution_count": null,
   "metadata": {},
   "outputs": [],
   "source": [
    "# Create histogram\n",
    "\n",
    "samples_vector = flatview(unshaped.(samples.v))[1,:]\n",
    "samples_likelihoods = exp.(samples.logd) * Norm_prior\n",
    "samples_weights = samples.weight\n",
    "\n",
    "bins = range(minimum(samples_vector), stop = maximum(samples_vector), length = 100)\n",
    "hist = fit(Histogram, samples_vector, weights(samples_weights), bins);\n",
    "hist = normalize(hist, mode=:pdf);"
   ]
  },
  {
   "cell_type": "code",
   "execution_count": null,
   "metadata": {},
   "outputs": [],
   "source": [
    "x_range =  range(0.1, stop=13, length=40)\n",
    "\n",
    "hm_estimates, hm_std, cuba_integrals = generate_hm_data(posterior, x_range, Norm_prior, density_f, n_trials=50);"
   ]
  },
  {
   "cell_type": "code",
   "execution_count": null,
   "metadata": {},
   "outputs": [],
   "source": [
    "line_colors = ColorSchemes.tab20b\n",
    "\n",
    "p1 = plot(hist, \n",
    "        seriestype = :steps, \n",
    "        linecolor=line_colors[13], \n",
    "        linealpha=0.2,\n",
    "        fill=true, \n",
    "        fillcolor=line_colors[16],\n",
    "        fillalpha=0.5, \n",
    "        label=\"Samples\"\n",
    "    )\n",
    "\n",
    "p1 = plot!(bins, x->density_f(x), \n",
    "        linecolor=:black,\n",
    "        linestyle=:dash,\n",
    "        linealpha=0.7,\n",
    "        lw=2, \n",
    "        label=\"True Density\"\n",
    "    )\n",
    "\n",
    "p1 = plot!(grid=:false, \n",
    "        xlims=(0.0, x_range[end]), \n",
    "        frame=true, \n",
    "        xlabel=\"x\", \n",
    "        ylabel=\"P(x)\"\n",
    "    )\n",
    "\n",
    "p2 = plot(x_range, hm_estimates, \n",
    "        lw=2, \n",
    "        linecolor=line_colors[9], \n",
    "        fillcolor=line_colors[12], \n",
    "        ribbon=hm_std,  \n",
    "        fillalpha=0.6,  \n",
    "        label=\"HM Estimate\"\n",
    "    )\n",
    "\n",
    "p2 = plot!(x_range, cuba_integrals,  \n",
    "        linestyle=:dash, \n",
    "        color=:black, \n",
    "        linealpha=0.7, \n",
    "        lw=2, \n",
    "        label=\"Exact Integral\",\n",
    "    )\n",
    "\n",
    "p2 = plot!(legend=:topleft, \n",
    "        xlims=(0.0, x_range[end]),\n",
    "        ylabel=\"I(x)\",     \n",
    "        grid=false, \n",
    "        frame=true, \n",
    "        xaxis=nothing,\n",
    "    )\n",
    "\n",
    "p3 = plot(p2, p1, layout = (2,1), size=(700,500))"
   ]
  },
  {
   "cell_type": "markdown",
   "metadata": {},
   "source": [
    "# Normal Distribution Example: "
   ]
  },
  {
   "cell_type": "code",
   "execution_count": null,
   "metadata": {},
   "outputs": [],
   "source": [
    "# Define target density function: \n",
    "\n",
    "density_f(x; μ=0.0, σ=1) = 2*pdf(Normal(μ, σ),x...) "
   ]
  },
  {
   "cell_type": "code",
   "execution_count": null,
   "metadata": {},
   "outputs": [],
   "source": [
    "# Generate MCMC Samples using BAT\n",
    "\n",
    "prior = NamedTupleDist(x =[0.0 .. 10.0] )\n",
    "\n",
    "Norm_prior = 10\n",
    "\n",
    "log_likelihood = let f = density_f\n",
    "    params ->  LogDVal(log(f(params.x)))\n",
    "end\n",
    "\n",
    "posterior = PosteriorDensity(log_likelihood, prior)\n",
    "\n",
    "nsamples = 10^3\n",
    "nchains = 6\n",
    "\n",
    "samples = bat_sample(posterior, (nsamples, nchains), MetropolisHastings()).result;"
   ]
  },
  {
   "cell_type": "code",
   "execution_count": null,
   "metadata": {},
   "outputs": [],
   "source": [
    "# Create histogram\n",
    "\n",
    "samples_vector = flatview(unshaped.(samples.v))[1,:]\n",
    "samples_likelihoods = exp.(samples.logd) * Norm_prior\n",
    "samples_weights = samples.weight\n",
    "\n",
    "bins = range(minimum(samples_vector), stop = maximum(samples_vector), length = 100)\n",
    "hist = fit(Histogram, samples_vector, weights(samples_weights), bins);\n",
    "hist = normalize(hist, mode=:pdf);"
   ]
  },
  {
   "cell_type": "code",
   "execution_count": null,
   "metadata": {},
   "outputs": [],
   "source": [
    "x_range =  range(0.0, stop=6, length=40)\n",
    "\n",
    "hm_estimates, hm_std, cuba_integrals = generate_hm_data(posterior, x_range, Norm_prior, density_f, n_trials=50);"
   ]
  },
  {
   "cell_type": "code",
   "execution_count": null,
   "metadata": {},
   "outputs": [],
   "source": [
    "line_colors = ColorSchemes.tab20b\n",
    "\n",
    "p1 = plot(hist, \n",
    "        seriestype = :steps, \n",
    "        linecolor=line_colors[13], \n",
    "        linealpha=0.2,\n",
    "        fill=true, \n",
    "        fillcolor=line_colors[16],\n",
    "        fillalpha=0.5, \n",
    "        label=\"Samples\"\n",
    "    )\n",
    "\n",
    "p1 = plot!(bins, x->density_f(x), \n",
    "        linecolor=:black,\n",
    "        linestyle=:dash,\n",
    "        linealpha=0.7,\n",
    "        lw=2, \n",
    "        label=\"True Density\"\n",
    "    )\n",
    "\n",
    "p1 = plot!(grid=:false, \n",
    "        xlims=(0.0, x_range[end]), \n",
    "        frame=true, \n",
    "        xlabel=\"x\", \n",
    "        ylabel=\"P(x)\"\n",
    "    )\n",
    "\n",
    "p2 = plot(x_range, hm_estimates, \n",
    "        lw=2, \n",
    "        linecolor=line_colors[9], \n",
    "        fillcolor=line_colors[12], \n",
    "        ribbon=hm_std,  \n",
    "        fillalpha=0.6,  \n",
    "        label=\"HM Estimate\"\n",
    "    )\n",
    "\n",
    "p2 = plot!(x_range, cuba_integrals,  \n",
    "        linestyle=:dash, \n",
    "        color=:black, \n",
    "        linealpha=0.7, \n",
    "        lw=2, \n",
    "        label=\"Exact Integral\",\n",
    "    )\n",
    "\n",
    "p2 = plot!(legend=:topleft, \n",
    "        xlims=(0.0, x_range[end]),\n",
    "        ylabel=\"I(x)\",     \n",
    "        grid=false, \n",
    "        frame=true, \n",
    "        xaxis=nothing,\n",
    "    )\n",
    "\n",
    "p3 = plot(p2, p1, layout = (2,1), size=(700,500))"
   ]
  },
  {
   "cell_type": "markdown",
   "metadata": {},
   "source": [
    "# Normal Distribution Example: "
   ]
  },
  {
   "cell_type": "code",
   "execution_count": null,
   "metadata": {},
   "outputs": [],
   "source": [
    "# Define target density function: \n",
    "\n",
    "# density_f(x; μ1=-1.5, μ2=1.5, σ=0.5) = (1/2)*(pdf(Normal(μ1, σ),x) + pdf(Normal(μ2, σ),x))\n",
    "\n",
    "density_f(x; μ=0.0, σ=0.4) = pdf(Normal(μ, σ),x...) "
   ]
  },
  {
   "cell_type": "code",
   "execution_count": null,
   "metadata": {},
   "outputs": [],
   "source": [
    "# Generate MCMC Samples using BAT\n",
    "\n",
    "prior = NamedTupleDist(x =[-10.0 .. 10.0] )\n",
    "\n",
    "Norm_prior = 20\n",
    "\n",
    "log_likelihood = let f = density_f\n",
    "    params ->  LogDVal(log(f(params.x)))\n",
    "end\n",
    "\n",
    "posterior = PosteriorDensity(log_likelihood, prior)\n",
    "\n",
    "nsamples = 10^3\n",
    "nchains = 6\n",
    "\n",
    "samples = bat_sample(posterior, (nsamples, nchains), MetropolisHastings()).result;"
   ]
  },
  {
   "cell_type": "code",
   "execution_count": null,
   "metadata": {},
   "outputs": [],
   "source": [
    "# Create histogram\n",
    "\n",
    "samples_vector = flatview(unshaped.(samples.v))[1,:]\n",
    "samples_likelihoods = exp.(samples.logd) * Norm_prior\n",
    "samples_weights = samples.weight\n",
    "\n",
    "bins = range(minimum(samples_vector), stop = maximum(samples_vector), length = 100)\n",
    "hist = fit(Histogram, samples_vector, weights(samples_weights), bins);\n",
    "hist = normalize(hist, mode=:pdf);"
   ]
  },
  {
   "cell_type": "code",
   "execution_count": null,
   "metadata": {},
   "outputs": [],
   "source": [
    "x_range = range(0.0, stop=1.5, length=50)\n",
    "\n",
    "hm_estimates, hm_std, cuba_integrals = generate_hm_data(posterior, x_range, Norm_prior, density_f, symmetric=true);"
   ]
  },
  {
   "cell_type": "code",
   "execution_count": null,
   "metadata": {},
   "outputs": [],
   "source": [
    "line_colors = ColorSchemes.tab20b\n",
    "\n",
    "p1 = plot(hist, \n",
    "        seriestype = :steps, \n",
    "        linecolor=line_colors[13], \n",
    "        linealpha=0.2,\n",
    "        fill=true, \n",
    "        fillcolor=line_colors[16],\n",
    "        fillalpha=0.5, \n",
    "        label=\"Samples\"\n",
    "    )\n",
    "\n",
    "p1 = plot!(bins, x->density_f(x), \n",
    "        linecolor=:black,\n",
    "        linestyle=:dash,\n",
    "        linealpha=0.7,\n",
    "        lw=2, \n",
    "        label=\"True Density\"\n",
    "    )\n",
    "\n",
    "p1 = plot!(grid=:false, \n",
    "        xlims=(-x_range[end], x_range[end]), \n",
    "        frame=true, \n",
    "        xlabel=\"x\", \n",
    "        ylabel=\"P(x)\"\n",
    "    )\n",
    "\n",
    "p2 = plot(x_range, hm_estimates, \n",
    "        lw=2, \n",
    "        linecolor=line_colors[9], \n",
    "        fillcolor=line_colors[12], \n",
    "        ribbon=hm_std,  \n",
    "        fillalpha=0.6,  \n",
    "        label=\"HM Estimate\"\n",
    "    )\n",
    "\n",
    "p2 = plot!(x_range, cuba_integrals, \n",
    "        xlims=(-x_range[end], x_range[end]), \n",
    "        linestyle=:dash, \n",
    "        color=:black, \n",
    "        linealpha=0.7, \n",
    "        lw=2, \n",
    "        label=\"Exact Integral\",\n",
    "    )\n",
    "\n",
    "p2 = plot!(legend=:topleft, \n",
    "        ylabel=\"I(x)\",     \n",
    "        grid=false, \n",
    "        frame=true, \n",
    "        xaxis=nothing,\n",
    "    )\n",
    "\n",
    "p3 = plot(p2, p1, layout = (2,1), size=(700,500))"
   ]
  },
  {
   "cell_type": "markdown",
   "metadata": {},
   "source": [
    "## Exact Calculation: "
   ]
  },
  {
   "cell_type": "code",
   "execution_count": null,
   "metadata": {},
   "outputs": [],
   "source": [
    "# CUBA integral: \n",
    "\n",
    "# cuba_integral = hcubature(density_f, [0.0], [10]) "
   ]
  },
  {
   "cell_type": "code",
   "execution_count": null,
   "metadata": {},
   "outputs": [],
   "source": [
    "# ahmi_integral = bat_integrate(samples).result .* Norm_prior"
   ]
  },
  {
   "cell_type": "code",
   "execution_count": null,
   "metadata": {},
   "outputs": [],
   "source": [
    "# likelihood_val = exp.(samples.logd) * Norm_prior\n",
    "\n",
    "# V = 1 #maximum(samples_flat) - minimum(samples_flat)\n",
    "\n",
    "# @show I_hm = (sum(samples.weight * V)) /(sum(samples.weight ./ likelihood_val)) \n",
    "# @show I_hm = (sum(samples.weight * Norm_prior)) /(sum(samples.weight ./ likelihood_val)) "
   ]
  },
  {
   "cell_type": "markdown",
   "metadata": {},
   "source": [
    "# Plot Cubes: "
   ]
  },
  {
   "cell_type": "code",
   "execution_count": null,
   "metadata": {},
   "outputs": [],
   "source": [
    "x1_min = -2\n",
    "x1_max = -1\n",
    "x2_min = 1\n",
    "x2_max = 2\n",
    "\n",
    "p = vspan([x1_min, x1_max, x2_min, x2_max], \n",
    "        linecolor=:black, \n",
    "        fillcolor=:gray, \n",
    "        label=\"\", \n",
    "        linealpha=0.0, \n",
    "        fillalpha=0.2\n",
    "    )\n",
    "\n",
    "p = plot!(hist, \n",
    "        seriestype = :steps, \n",
    "        linecolor=line_colors[13], \n",
    "        linealpha=0.0,\n",
    "        fill=true, \n",
    "        fillcolor=line_colors[16],\n",
    "        fillalpha=0.8, \n",
    "        label=\"\",\n",
    "    )\n",
    "\n",
    "p = plot!(grid=:false, frame=true, xlabel=\"x\", ylabel=\"P(x)\")"
   ]
  },
  {
   "cell_type": "markdown",
   "metadata": {},
   "source": []
  },
  {
   "cell_type": "code",
   "execution_count": null,
   "metadata": {},
   "outputs": [],
   "source": []
  },
  {
   "cell_type": "code",
   "execution_count": null,
   "metadata": {},
   "outputs": [],
   "source": []
  }
 ],
 "metadata": {
  "kernelspec": {
   "display_name": "Julia 1.3.0",
   "language": "julia",
   "name": "julia-1.3"
  },
  "language_info": {
   "file_extension": ".jl",
   "mimetype": "application/julia",
   "name": "julia",
   "version": "1.3.1"
  }
 },
 "nbformat": 4,
 "nbformat_minor": 4
}
